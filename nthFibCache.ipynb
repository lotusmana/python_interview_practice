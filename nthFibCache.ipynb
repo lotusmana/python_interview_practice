{
 "cells": [
  {
   "cell_type": "code",
   "execution_count": null,
   "metadata": {},
   "outputs": [],
   "source": [
    "#calculate nth fib using caching to increase efficiency\n",
    "\n",
    "import sys\n",
    "\n",
    "for num in sys.stdin:\n",
    "\n",
    "    if 'Exit' == num.rstrip():\n",
    "        break\n",
    "    #print(\"num is \", num)\n",
    "\n",
    "a = int(num)\n",
    "fibs = []\n",
    "\n",
    "def nfib(n):\n",
    "    if n >= len(fibs):\n",
    "        fibs.append(nfib(n-1) + nfib(n-2))\n",
    "    return fibs[n]\n",
    "\n",
    "def fib(n):\n",
    "    fibs.append(0)\n",
    "    fibs.append(1)\n",
    "    return nfib(n)\n",
    "    \n",
    "print(fib(a))"
   ]
  }
 ],
 "metadata": {
  "kernelspec": {
   "display_name": "Python 3",
   "language": "python",
   "name": "python3"
  },
  "language_info": {
   "codemirror_mode": {
    "name": "ipython",
    "version": 3
   },
   "file_extension": ".py",
   "mimetype": "text/x-python",
   "name": "python",
   "nbconvert_exporter": "python",
   "pygments_lexer": "ipython3",
   "version": "3.9.0"
  }
 },
 "nbformat": 4,
 "nbformat_minor": 4
}

{
 "cells": [
  {
   "cell_type": "code",
   "execution_count": null,
   "metadata": {},
   "outputs": [],
   "source": [
    "#match delimiters function from hackerrank\n",
    "#reads a string of delimiters from stdin and returns true if delimiters are matched validly\n",
    "#does not account for whitespace or strings containing chars other than delims\n"
   ]
  },
  {
   "cell_type": "code",
   "execution_count": null,
   "metadata": {},
   "outputs": [],
   "source": [
    "\n",
    "import sys\n",
    "\n",
    "stack = []\n",
    "\n",
    "left_delims = [\"(\",\"[\",\"{\"]\n",
    "\n",
    "right_delims = [\")\",\"]\",\"}\"]\n",
    "\n",
    "parens = [\"(\",\")\"]\n",
    "\n",
    "curly = [\"{\",\"}\"]\n",
    "\n",
    "square = [\"[\",\"]\"]\n",
    "\n",
    "#delims = sys.stdin\n",
    "\n",
    "#print(delims)\n",
    "\n",
    "for delim_str in sys.stdin:\n",
    "\n",
    "    if 'Exit' == delim_str.rstrip():\n",
    "        break\n",
    "    #print(\"delimiter string is \", delim_str)\n",
    "\n",
    "def peek_stack(stack):\n",
    "    if stack:\n",
    "        return stack[-1]    # this will get the last element of stack\n",
    "    else:\n",
    "        return None\n",
    "     \n",
    "def balance_delims(delims):\n",
    "\n",
    "    for d in delims:\n",
    "        #print(\"from top of for loop d is \", d)\n",
    "        if not stack and d in right_delims: #no delimiters in stack, next delimiter is a right_delim, return false\n",
    "            #print(\"empty stack w right delim \", d)\n",
    "            print(False)\n",
    "            return False\n",
    "        if d in left_delims: #Add left_delim to stack\n",
    "            #print(\"adding left delim to stack \", d)\n",
    "            stack.append(d)\n",
    "        elif d in right_delims: #check if d matches the last left delim\n",
    "            if d in parens and peek_stack(stack) in parens:\n",
    "                #print(\"popping left parens, d is \", d)\n",
    "                stack.pop()\n",
    "            elif d in curly and peek_stack(stack) in curly:\n",
    "                #print(\"popping left curly, d is \", d)\n",
    "                stack.pop()\n",
    "            elif d in square and peek_stack(stack) in square:\n",
    "                #print(\"popping left square, d is \", d)\n",
    "                stack.pop()\n",
    "            else:\n",
    "                print(False)\n",
    "                return False\n",
    "    #print(\"stack after loop \", stack)\n",
    "    if not stack: \n",
    "        print(True)\n",
    "        return True\n",
    "    else:\n",
    "        print(False)\n",
    "        return False\n",
    "    \n",
    "balance_delims(delim_str)\n"
   ]
  }
 ],
 "metadata": {
  "kernelspec": {
   "display_name": "Python 3",
   "language": "python",
   "name": "python3"
  },
  "language_info": {
   "codemirror_mode": {
    "name": "ipython",
    "version": 3
   },
   "file_extension": ".py",
   "mimetype": "text/x-python",
   "name": "python",
   "nbconvert_exporter": "python",
   "pygments_lexer": "ipython3",
   "version": "3.9.0"
  }
 },
 "nbformat": 4,
 "nbformat_minor": 4
}

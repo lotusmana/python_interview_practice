{
 "cells": [
  {
   "cell_type": "code",
   "execution_count": null,
   "metadata": {},
   "outputs": [],
   "source": [
    "# DP soln to nth fib with only the necessary values cached\n",
    "\n",
    "import sys\n",
    "\n",
    "test_nums = []\n",
    "\n",
    "for line in sys.stdin:\n",
    "    test_nums.append((int)(line.rstrip()))\n",
    "    \n",
    "def nfib(n):\n",
    "    n_minus_2 = 0\n",
    "    n_minus_1 = 1\n",
    "    total = 0\n",
    "    \n",
    "    if n is 0: return 0\n",
    "    \n",
    "    for p in range(2,n):\n",
    "        total = n_minus_1 + n_minus_2\n",
    "        n_minus_2 = n_minus_1\n",
    "        n_minus_1 = total\n",
    "    \n",
    "    return (n_minus_1 + n_minus_2)\n",
    "    \n",
    "for x in test_nums:\n",
    "    print(nfib(x))"
   ]
  }
 ],
 "metadata": {
  "kernelspec": {
   "display_name": "Python 3",
   "language": "python",
   "name": "python3"
  },
  "language_info": {
   "codemirror_mode": {
    "name": "ipython",
    "version": 3
   },
   "file_extension": ".py",
   "mimetype": "text/x-python",
   "name": "python",
   "nbconvert_exporter": "python",
   "pygments_lexer": "ipython3",
   "version": "3.9.0"
  }
 },
 "nbformat": 4,
 "nbformat_minor": 4
}
